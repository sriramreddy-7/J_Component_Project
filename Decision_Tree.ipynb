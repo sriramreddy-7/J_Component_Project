{
  "nbformat": 4,
  "nbformat_minor": 0,
  "metadata": {
    "colab": {
      "provenance": [],
      "mount_file_id": "1pRbOQwurxppqUQHt40cyayiM_LKFfELc",
      "authorship_tag": "ABX9TyMQzsjOZl8z2nvQvJwQuWYF",
      "include_colab_link": true
    },
    "kernelspec": {
      "name": "python3",
      "display_name": "Python 3"
    },
    "language_info": {
      "name": "python"
    }
  },
  "cells": [
    {
      "cell_type": "markdown",
      "metadata": {
        "id": "view-in-github",
        "colab_type": "text"
      },
      "source": [
        "<a href=\"https://colab.research.google.com/github/sriramreddy-7/J_Component_Project/blob/main/Decision_Tree.ipynb\" target=\"_parent\"><img src=\"https://colab.research.google.com/assets/colab-badge.svg\" alt=\"Open In Colab\"/></a>"
      ]
    },
    {
      "cell_type": "code",
      "execution_count": 20,
      "metadata": {
        "id": "79luh7q6QpS3"
      },
      "outputs": [],
      "source": [
        "import os\n",
        "import numpy as np\n",
        "import matplotlib.pyplot as plt\n",
        "from skimage.color import rgb2gray\n",
        "from skimage.transform import resize\n",
        "from sklearn.tree import DecisionTreeClassifier\n",
        "from sklearn.model_selection import train_test_split\n",
        "from sklearn.metrics import accuracy_score"
      ]
    },
    {
      "cell_type": "markdown",
      "source": [
        "Importing the required Libraries"
      ],
      "metadata": {
        "id": "Z1eFDAGgU2zj"
      }
    },
    {
      "cell_type": "code",
      "source": [
        "data_dir = '/content/drive/MyDrive/J_CompAIML/DATASET/BTDS'\n",
        "classes = ['BrainTumor', 'Healthy']\n",
        "num_classes = len(classes)\n",
        "img_size = (150,150)\n"
      ],
      "metadata": {
        "id": "mgxLYCKiQ3QC"
      },
      "execution_count": 2,
      "outputs": []
    },
    {
      "cell_type": "code",
      "source": [
        "X = []\n",
        "y = []\n",
        "for i, cls in enumerate(classes):\n",
        "    path = os.path.join(data_dir, cls)\n",
        "    for img in os.listdir(path):\n",
        "        try:\n",
        "            # Convert image to grayscale and resize to a fixed size\n",
        "            img_array = resize(rgb2gray(plt.imread(os.path.join(path, img))), img_size)\n",
        "            X.append(img_array)  # Store the image array\n",
        "            y.append(i)  # Store the class label\n",
        "        except Exception as e:\n",
        "            print(e)"
      ],
      "metadata": {
        "colab": {
          "base_uri": "https://localhost:8080/"
        },
        "id": "nBXYK9_1RQ7V",
        "outputId": "be585b99-4223-42dd-b5b0-2d0a1ceced86"
      },
      "execution_count": 21,
      "outputs": [
        {
          "output_type": "stream",
          "name": "stdout",
          "text": [
            "the input array must have size 3 along `channel_axis`, got (300, 289)\n",
            "the input array must have size 3 along `channel_axis`, got (336, 300)\n",
            "the input array must have size 3 along `channel_axis`, got (1024, 1024)\n",
            "the input array must have size 3 along `channel_axis`, got (300, 289)\n",
            "the input array must have size 3 along `channel_axis`, got (360, 319)\n",
            "the input array must have size 3 along `channel_axis`, got (500, 377)\n",
            "the input array must have size 3 along `channel_axis`, got (300, 289)\n",
            "the input array must have size 3 along `channel_axis`, got (1427, 1275)\n",
            "the input array must have size 3 along `channel_axis`, got (1024, 1024)\n",
            "the input array must have size 3 along `channel_axis`, got (294, 250)\n",
            "the input array must have size 3 along `channel_axis`, got (325, 300)\n",
            "the input array must have size 3 along `channel_axis`, got (360, 319)\n",
            "the input array must have size 3 along `channel_axis`, got (278, 236)\n",
            "the input array must have size 3 along `channel_axis`, got (325, 300)\n",
            "the input array must have size 3 along `channel_axis`, got (938, 911)\n",
            "the input array must have size 3 along `channel_axis`, got (325, 300)\n",
            "the input array must have size 3 along `channel_axis`, got (325, 300)\n",
            "the input array must have size 3 along `channel_axis`, got (294, 250)\n",
            "the input array must have size 3 along `channel_axis`, got (938, 911)\n",
            "the input array must have size 3 along `channel_axis`, got (325, 300)\n",
            "the input array must have size 3 along `channel_axis`, got (1427, 1275)\n",
            "the input array must have size 3 along `channel_axis`, got (500, 377)\n",
            "the input array must have size 3 along `channel_axis`, got (336, 300)\n",
            "the input array must have size 3 along `channel_axis`, got (300, 240)\n",
            "the input array must have size 3 along `channel_axis`, got (1024, 1024)\n",
            "the input array must have size 3 along `channel_axis`, got (938, 911)\n",
            "the input array must have size 3 along `channel_axis`, got (336, 300)\n",
            "the input array must have size 3 along `channel_axis`, got (294, 250)\n",
            "the input array must have size 3 along `channel_axis`, got (325, 300)\n",
            "the input array must have size 3 along `channel_axis`, got (300, 240)\n",
            "the input array must have size 3 along `channel_axis`, got (1427, 1275)\n",
            "the input array must have size 3 along `channel_axis`, got (1024, 1024)\n",
            "the input array must have size 3 along `channel_axis`, got (294, 250)\n",
            "the input array must have size 3 along `channel_axis`, got (938, 911)\n",
            "the input array must have size 3 along `channel_axis`, got (1427, 1275)\n",
            "the input array must have size 3 along `channel_axis`, got (500, 377)\n",
            "the input array must have size 3 along `channel_axis`, got (325, 300)\n",
            "the input array must have size 3 along `channel_axis`, got (300, 240)\n",
            "the input array must have size 3 along `channel_axis`, got (336, 300)\n",
            "the input array must have size 3 along `channel_axis`, got (1024, 1024)\n",
            "the input array must have size 3 along `channel_axis`, got (300, 289)\n",
            "the input array must have size 3 along `channel_axis`, got (500, 377)\n",
            "the input array must have size 3 along `channel_axis`, got (938, 911)\n",
            "the input array must have size 3 along `channel_axis`, got (325, 300)\n",
            "the input array must have size 3 along `channel_axis`, got (1427, 1275)\n",
            "the input array must have size 3 along `channel_axis`, got (300, 240)\n",
            "the input array must have size 3 along `channel_axis`, got (294, 250)\n",
            "the input array must have size 3 along `channel_axis`, got (360, 319)\n",
            "the input array must have size 3 along `channel_axis`, got (336, 300)\n",
            "the input array must have size 3 along `channel_axis`, got (300, 289)\n",
            "the input array must have size 3 along `channel_axis`, got (1024, 1024)\n",
            "the input array must have size 3 along `channel_axis`, got (360, 319)\n",
            "the input array must have size 3 along `channel_axis`, got (938, 911)\n",
            "the input array must have size 3 along `channel_axis`, got (1427, 1275)\n",
            "the input array must have size 3 along `channel_axis`, got (325, 300)\n",
            "the input array must have size 3 along `channel_axis`, got (336, 300)\n",
            "the input array must have size 3 along `channel_axis`, got (500, 377)\n",
            "the input array must have size 3 along `channel_axis`, got (294, 250)\n",
            "the input array must have size 3 along `channel_axis`, got (300, 240)\n",
            "the input array must have size 3 along `channel_axis`, got (1024, 1024)\n",
            "the input array must have size 3 along `channel_axis`, got (300, 289)\n",
            "the input array must have size 3 along `channel_axis`, got (360, 319)\n",
            "the input array must have size 3 along `channel_axis`, got (294, 250)\n",
            "the input array must have size 3 along `channel_axis`, got (325, 300)\n",
            "the input array must have size 3 along `channel_axis`, got (938, 911)\n",
            "the input array must have size 3 along `channel_axis`, got (1427, 1275)\n",
            "the input array must have size 3 along `channel_axis`, got (300, 240)\n",
            "the input array must have size 3 along `channel_axis`, got (1427, 1275)\n",
            "the input array must have size 3 along `channel_axis`, got (325, 300)\n",
            "the input array must have size 3 along `channel_axis`, got (336, 300)\n",
            "the input array must have size 3 along `channel_axis`, got (278, 236)\n",
            "the input array must have size 3 along `channel_axis`, got (294, 250)\n",
            "the input array must have size 3 along `channel_axis`, got (1427, 1275)\n",
            "the input array must have size 3 along `channel_axis`, got (300, 240)\n",
            "the input array must have size 3 along `channel_axis`, got (325, 300)\n",
            "the input array must have size 3 along `channel_axis`, got (938, 911)\n",
            "the input array must have size 3 along `channel_axis`, got (294, 250)\n",
            "the input array must have size 3 along `channel_axis`, got (500, 377)\n",
            "the input array must have size 3 along `channel_axis`, got (360, 319)\n",
            "the input array must have size 3 along `channel_axis`, got (300, 240)\n",
            "the input array must have size 3 along `channel_axis`, got (336, 300)\n",
            "the input array must have size 3 along `channel_axis`, got (336, 300)\n",
            "the input array must have size 3 along `channel_axis`, got (1024, 1024)\n",
            "the input array must have size 3 along `channel_axis`, got (1427, 1275)\n",
            "the input array must have size 3 along `channel_axis`, got (938, 911)\n",
            "the input array must have size 3 along `channel_axis`, got (294, 250)\n",
            "the input array must have size 3 along `channel_axis`, got (325, 300)\n",
            "the input array must have size 3 along `channel_axis`, got (300, 240)\n",
            "the input array must have size 3 along `channel_axis`, got (336, 300)\n",
            "the input array must have size 3 along `channel_axis`, got (500, 377)\n",
            "the input array must have size 3 along `channel_axis`, got (1024, 1024)\n",
            "the input array must have size 3 along `channel_axis`, got (294, 250)\n",
            "the input array must have size 3 along `channel_axis`, got (630, 630)\n",
            "the input array must have size 3 along `channel_axis`, got (275, 220)\n",
            "the input array must have size 3 along `channel_axis`, got (630, 630)\n",
            "the input array must have size 3 along `channel_axis`, got (442, 442)\n",
            "the input array must have size 3 along `channel_axis`, got (275, 220)\n",
            "the input array must have size 3 along `channel_axis`, got (225, 225)\n",
            "the input array must have size 3 along `channel_axis`, got (1024, 1024)\n",
            "the input array must have size 3 along `channel_axis`, got (512, 512, 4)\n",
            "the input array must have size 3 along `channel_axis`, got (630, 630)\n",
            "the input array must have size 3 along `channel_axis`, got (275, 220)\n",
            "the input array must have size 3 along `channel_axis`, got (442, 409)\n",
            "the input array must have size 3 along `channel_axis`, got (664, 550, 4)\n",
            "the input array must have size 3 along `channel_axis`, got (750, 750)\n",
            "the input array must have size 3 along `channel_axis`, got (725, 728, 4)\n",
            "the input array must have size 3 along `channel_axis`, got (301, 275)\n",
            "the input array must have size 3 along `channel_axis`, got (630, 630)\n",
            "the input array must have size 3 along `channel_axis`, got (442, 442)\n",
            "the input array must have size 3 along `channel_axis`, got (1024, 1024)\n",
            "the input array must have size 3 along `channel_axis`, got (442, 442)\n",
            "the input array must have size 3 along `channel_axis`, got (301, 275)\n",
            "the input array must have size 3 along `channel_axis`, got (275, 220)\n",
            "the input array must have size 3 along `channel_axis`, got (630, 630)\n",
            "the input array must have size 3 along `channel_axis`, got (301, 275)\n",
            "the input array must have size 3 along `channel_axis`, got (630, 630)\n",
            "the input array must have size 3 along `channel_axis`, got (630, 630)\n",
            "the input array must have size 3 along `channel_axis`, got (301, 275)\n",
            "the input array must have size 3 along `channel_axis`, got (442, 409)\n",
            "the input array must have size 3 along `channel_axis`, got (664, 550, 4)\n",
            "the input array must have size 3 along `channel_axis`, got (275, 220)\n",
            "the input array must have size 3 along `channel_axis`, got (225, 225)\n",
            "the input array must have size 3 along `channel_axis`, got (725, 728, 4)\n",
            "the input array must have size 3 along `channel_axis`, got (400, 393, 4)\n",
            "the input array must have size 3 along `channel_axis`, got (1024, 1024)\n",
            "the input array must have size 3 along `channel_axis`, got (454, 442, 4)\n",
            "the input array must have size 3 along `channel_axis`, got (630, 630)\n",
            "the input array must have size 3 along `channel_axis`, got (442, 442)\n",
            "the input array must have size 3 along `channel_axis`, got (630, 630)\n",
            "the input array must have size 3 along `channel_axis`, got (630, 630)\n",
            "the input array must have size 3 along `channel_axis`, got (442, 442)\n",
            "the input array must have size 3 along `channel_axis`, got (275, 220)\n",
            "the input array must have size 3 along `channel_axis`, got (630, 630)\n",
            "the input array must have size 3 along `channel_axis`, got (630, 630)\n",
            "the input array must have size 3 along `channel_axis`, got (630, 630)\n",
            "the input array must have size 3 along `channel_axis`, got (630, 630)\n",
            "the input array must have size 3 along `channel_axis`, got (630, 630)\n",
            "the input array must have size 3 along `channel_axis`, got (630, 630)\n",
            "the input array must have size 3 along `channel_axis`, got (630, 630)\n"
          ]
        }
      ]
    },
    {
      "cell_type": "code",
      "source": [
        "X = np.array(X)\n",
        "y = np.array(y)"
      ],
      "metadata": {
        "id": "4Z_U3YIiRebS"
      },
      "execution_count": 22,
      "outputs": []
    },
    {
      "cell_type": "code",
      "source": [
        "print(X.shape, y.shape)"
      ],
      "metadata": {
        "colab": {
          "base_uri": "https://localhost:8080/"
        },
        "id": "H1jDQdqcRmQq",
        "outputId": "4e6b460c-6991-4bf4-b6da-85b14b2e4cbb"
      },
      "execution_count": 23,
      "outputs": [
        {
          "output_type": "stream",
          "name": "stdout",
          "text": [
            "(4473, 150, 150) (4473,)\n"
          ]
        }
      ]
    },
    {
      "cell_type": "code",
      "source": [
        "X_train, X_test, y_train, y_test = train_test_split(X, y, test_size=0.2, random_state=42)\n",
        "\n",
        "X_train = X_train.reshape(X_train.shape[0], -1)\n",
        "X_test = X_test.reshape(X_test.shape[0], -1)\n",
        "\n",
        "clf = DecisionTreeClassifier()\n",
        "clf.fit(X_train, y_train)\n",
        "\n",
        "y_pred = clf.predict(X_test)\n",
        "acc = accuracy_score(y_test, y_pred)"
      ],
      "metadata": {
        "id": "9Kwi4i2HRnKj"
      },
      "execution_count": 26,
      "outputs": []
    },
    {
      "cell_type": "code",
      "source": [
        "print('Accuracy:', acc)\n",
        "print('Accuracy Percentage:', round(acc*100,3),\"%\")"
      ],
      "metadata": {
        "colab": {
          "base_uri": "https://localhost:8080/"
        },
        "id": "N1wqJvjZUtLk",
        "outputId": "c83fc4d0-3db2-4d8c-f660-c58c94a3f72f"
      },
      "execution_count": 27,
      "outputs": [
        {
          "output_type": "stream",
          "name": "stdout",
          "text": [
            "Accuracy: 0.8849162011173184\n",
            "Accuracy Percentage: 88.492 %\n"
          ]
        }
      ]
    }
  ]
}