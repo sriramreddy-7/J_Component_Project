{
  "nbformat": 4,
  "nbformat_minor": 0,
  "metadata": {
    "colab": {
      "provenance": [],
      "mount_file_id": "1EWBbxWGj03JHwr55Z2s5joq1GvAj4n0I",
      "authorship_tag": "ABX9TyMHePeBQtD+TZ69MT+fIHlv",
      "include_colab_link": true
    },
    "kernelspec": {
      "name": "python3",
      "display_name": "Python 3"
    },
    "language_info": {
      "name": "python"
    }
  },
  "cells": [
    {
      "cell_type": "markdown",
      "metadata": {
        "id": "view-in-github",
        "colab_type": "text"
      },
      "source": [
        "<a href=\"https://colab.research.google.com/github/sriramreddy-7/J_Component_Project/blob/main/ANN_IMAGE_CLASSIFICATION.ipynb\" target=\"_parent\"><img src=\"https://colab.research.google.com/assets/colab-badge.svg\" alt=\"Open In Colab\"/></a>"
      ]
    },
    {
      "cell_type": "code",
      "execution_count": 1,
      "metadata": {
        "id": "8o2aaA5njryg"
      },
      "outputs": [],
      "source": [
        "import tensorflow as tf\n",
        "from tensorflow import keras\n",
        "from tensorflow.keras.preprocessing.image import ImageDataGenerator\n"
      ]
    },
    {
      "cell_type": "code",
      "source": [
        "data_dir = '/content/drive/MyDrive/J_CompAIML/DATASET/BTDS'\n",
        "classes = ['BrainTumor', 'Healthy']"
      ],
      "metadata": {
        "id": "NFX5IBCYjzpi"
      },
      "execution_count": 2,
      "outputs": []
    },
    {
      "cell_type": "code",
      "source": [
        "img_size = (224, 224)\n",
        "batch_size = 32"
      ],
      "metadata": {
        "id": "92vQ_MHmj7n8"
      },
      "execution_count": 3,
      "outputs": []
    },
    {
      "cell_type": "code",
      "source": [
        "train_datagen = ImageDataGenerator(\n",
        "    rescale=1./255,\n",
        "    shear_range=0.2,\n",
        "    zoom_range=0.2,\n",
        "    horizontal_flip=True,\n",
        "    validation_split=0.2\n",
        ")"
      ],
      "metadata": {
        "id": "b24xmh9KkAD5"
      },
      "execution_count": 4,
      "outputs": []
    },
    {
      "cell_type": "code",
      "source": [
        "train_generator = train_datagen.flow_from_directory(\n",
        "    data_dir,\n",
        "    target_size=img_size,\n",
        "    batch_size=batch_size,\n",
        "    classes=classes,\n",
        "    subset='training'\n",
        ")"
      ],
      "metadata": {
        "colab": {
          "base_uri": "https://localhost:8080/"
        },
        "id": "sa6mDGxrkB0J",
        "outputId": "7906561f-5ae7-44d3-c890-689eef0e0a56"
      },
      "execution_count": 5,
      "outputs": [
        {
          "output_type": "stream",
          "name": "stdout",
          "text": [
            "Found 3690 images belonging to 2 classes.\n"
          ]
        }
      ]
    },
    {
      "cell_type": "code",
      "source": [
        "val_datagen = ImageDataGenerator(\n",
        "    rescale=1./255,\n",
        "    validation_split=0.2\n",
        ")"
      ],
      "metadata": {
        "id": "NI9HB65dkPgW"
      },
      "execution_count": 6,
      "outputs": []
    },
    {
      "cell_type": "code",
      "source": [
        "val_generator = val_datagen.flow_from_directory(\n",
        "    data_dir,\n",
        "    target_size=img_size,\n",
        "    batch_size=batch_size,\n",
        "    classes=classes,\n",
        "    subset='validation'\n",
        ")"
      ],
      "metadata": {
        "colab": {
          "base_uri": "https://localhost:8080/"
        },
        "id": "cF0Hp8SUkRzG",
        "outputId": "1c4dd2a8-6279-4705-c4ed-e0c2ffdaa51f"
      },
      "execution_count": 7,
      "outputs": [
        {
          "output_type": "stream",
          "name": "stdout",
          "text": [
            "Found 922 images belonging to 2 classes.\n"
          ]
        }
      ]
    },
    {
      "cell_type": "code",
      "source": [
        "model = keras.models.Sequential([\n",
        "    keras.layers.Conv2D(32, (3,3), activation='relu', input_shape=(img_size[0], img_size[1], 3)),\n",
        "    keras.layers.MaxPooling2D((2,2)),\n",
        "    keras.layers.Conv2D(64, (3,3), activation='relu'),\n",
        "    keras.layers.MaxPooling2D((2,2)),\n",
        "    keras.layers.Conv2D(128, (3,3), activation='relu'),\n",
        "    keras.layers.MaxPooling2D((2,2)),\n",
        "    keras.layers.Flatten(),\n",
        "    keras.layers.Dense(128, activation='relu'),\n",
        "    keras.layers.Dropout(0.5),\n",
        "    keras.layers.Dense(len(classes), activation='softmax')\n",
        "])"
      ],
      "metadata": {
        "id": "w4nd2ToDkWYb"
      },
      "execution_count": 8,
      "outputs": []
    },
    {
      "cell_type": "code",
      "source": [
        "model.compile(\n",
        "    optimizer='adam',\n",
        "    loss='categorical_crossentropy',\n",
        "    metrics=['accuracy']\n",
        ")"
      ],
      "metadata": {
        "id": "MSnyonFwkagZ"
      },
      "execution_count": 9,
      "outputs": []
    },
    {
      "cell_type": "code",
      "source": [
        "history = model.fit(\n",
        "    train_generator,\n",
        "    epochs=10,\n",
        "    validation_data=val_generator\n",
        ")\n",
        "\n"
      ],
      "metadata": {
        "colab": {
          "base_uri": "https://localhost:8080/"
        },
        "id": "kuPefAXCkd7h",
        "outputId": "e8f0eb68-ccea-421b-d632-51f5df6e344c"
      },
      "execution_count": 10,
      "outputs": [
        {
          "output_type": "stream",
          "name": "stdout",
          "text": [
            "Epoch 1/10\n",
            "116/116 [==============================] - 774s 6s/step - loss: 0.6536 - accuracy: 0.6325 - val_loss: 0.5476 - val_accuracy: 0.7332\n",
            "Epoch 2/10\n",
            "116/116 [==============================] - 590s 5s/step - loss: 0.4889 - accuracy: 0.7621 - val_loss: 0.4151 - val_accuracy: 0.8178\n",
            "Epoch 3/10\n",
            "116/116 [==============================] - 584s 5s/step - loss: 0.4373 - accuracy: 0.7978 - val_loss: 0.4832 - val_accuracy: 0.7516\n",
            "Epoch 4/10\n",
            "116/116 [==============================] - 594s 5s/step - loss: 0.3803 - accuracy: 0.8420 - val_loss: 0.3360 - val_accuracy: 0.8623\n",
            "Epoch 5/10\n",
            "116/116 [==============================] - 573s 5s/step - loss: 0.3419 - accuracy: 0.8515 - val_loss: 0.3051 - val_accuracy: 0.8709\n",
            "Epoch 6/10\n",
            "116/116 [==============================] - 568s 5s/step - loss: 0.3120 - accuracy: 0.8648 - val_loss: 0.2663 - val_accuracy: 0.8753\n",
            "Epoch 7/10\n",
            "116/116 [==============================] - 538s 5s/step - loss: 0.2750 - accuracy: 0.8837 - val_loss: 0.2691 - val_accuracy: 0.8709\n",
            "Epoch 8/10\n",
            "116/116 [==============================] - 533s 5s/step - loss: 0.2537 - accuracy: 0.8894 - val_loss: 0.2192 - val_accuracy: 0.9024\n",
            "Epoch 9/10\n",
            "116/116 [==============================] - 536s 5s/step - loss: 0.2152 - accuracy: 0.9079 - val_loss: 0.1875 - val_accuracy: 0.9262\n",
            "Epoch 10/10\n",
            "116/116 [==============================] - 537s 5s/step - loss: 0.2155 - accuracy: 0.9108 - val_loss: 0.1869 - val_accuracy: 0.9317\n"
          ]
        }
      ]
    },
    {
      "cell_type": "code",
      "source": [
        "print(history.history['accuracy'])\n",
        "print(history.history['val_accuracy'])"
      ],
      "metadata": {
        "colab": {
          "base_uri": "https://localhost:8080/"
        },
        "id": "dzBkIHu0kiQ2",
        "outputId": "04dec188-e07b-4a51-918a-5982a3df94ca"
      },
      "execution_count": 11,
      "outputs": [
        {
          "output_type": "stream",
          "name": "stdout",
          "text": [
            "[0.632520318031311, 0.7620596289634705, 0.7978319525718689, 0.8420054316520691, 0.8514904975891113, 0.8647696375846863, 0.8837398290634155, 0.8894308805465698, 0.9078590869903564, 0.9108400940895081]\n",
            "[0.7331887483596802, 0.8177874088287354, 0.7516269087791443, 0.8622559905052185, 0.8709327578544617, 0.8752711415290833, 0.8709327578544617, 0.9023861289024353, 0.9262472987174988, 0.9316703081130981]\n"
          ]
        }
      ]
    },
    {
      "cell_type": "code",
      "source": [
        "print(max(history.history['accuracy']))\n",
        "print(max(history.history['val_accuracy']))"
      ],
      "metadata": {
        "colab": {
          "base_uri": "https://localhost:8080/"
        },
        "id": "qlTlXuji70_k",
        "outputId": "8beeb8d2-1d76-42fc-9841-7ccd7aaf1136"
      },
      "execution_count": 12,
      "outputs": [
        {
          "output_type": "stream",
          "name": "stdout",
          "text": [
            "0.9108400940895081\n",
            "0.9316703081130981\n"
          ]
        }
      ]
    }
  ]
}