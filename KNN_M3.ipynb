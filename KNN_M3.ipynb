{
  "nbformat": 4,
  "nbformat_minor": 0,
  "metadata": {
    "colab": {
      "provenance": [],
      "mount_file_id": "1LN2_MHDNDxSlkOnpvzTh8ig_ZZdeHars",
      "authorship_tag": "ABX9TyN+DYadJpROWbCBLijSyd/3",
      "include_colab_link": true
    },
    "kernelspec": {
      "name": "python3",
      "display_name": "Python 3"
    },
    "language_info": {
      "name": "python"
    }
  },
  "cells": [
    {
      "cell_type": "markdown",
      "metadata": {
        "id": "view-in-github",
        "colab_type": "text"
      },
      "source": [
        "<a href=\"https://colab.research.google.com/github/sriramreddy-7/J_Component_Project/blob/main/KNN_M3.ipynb\" target=\"_parent\"><img src=\"https://colab.research.google.com/assets/colab-badge.svg\" alt=\"Open In Colab\"/></a>"
      ]
    },
    {
      "cell_type": "code",
      "execution_count": 1,
      "metadata": {
        "id": "d75WCJTmINsn"
      },
      "outputs": [],
      "source": [
        "import os\n",
        "import numpy as np\n",
        "import matplotlib.pyplot as plt\n",
        "from skimage.color import rgb2gray\n",
        "from skimage.transform import resize\n",
        "from sklearn.neighbors import KNeighborsClassifier\n",
        "from sklearn.model_selection import train_test_split\n",
        "from sklearn.metrics import accuracy_score"
      ]
    },
    {
      "cell_type": "code",
      "source": [
        "data_dir = '/content/drive/MyDrive/J_CompAIML/DATASET/BTDS'\n",
        "classes = ['BrainTumor', 'Healthy']\n",
        "num_classes = len(classes)\n",
        "img_size = (150,150)\n"
      ],
      "metadata": {
        "id": "j9jgCA0FISBd"
      },
      "execution_count": 11,
      "outputs": []
    },
    {
      "cell_type": "code",
      "source": [
        "X = []\n",
        "y = []\n",
        "for i in range(num_classes):\n",
        "    path = os.path.join(data_dir, classes[i])\n",
        "    for img in os.listdir(path):\n",
        "        try:\n",
        "            img_array = resize(rgb2gray(plt.imread(os.path.join(path, img))), img_size)\n",
        "            X.append(img_array.flatten())\n",
        "            y.append(i)\n",
        "        except Exception as e:\n",
        "            print(e)\n",
        "\n",
        "\n",
        "X = np.array(X)\n",
        "y = np.array(y)"
      ],
      "metadata": {
        "colab": {
          "base_uri": "https://localhost:8080/"
        },
        "id": "E9USPPIeIWva",
        "outputId": "df1da084-f86f-4a28-cec9-f7716de1ba05"
      },
      "execution_count": 13,
      "outputs": [
        {
          "output_type": "stream",
          "name": "stdout",
          "text": [
            "the input array must have size 3 along `channel_axis`, got (300, 289)\n",
            "the input array must have size 3 along `channel_axis`, got (336, 300)\n",
            "the input array must have size 3 along `channel_axis`, got (1024, 1024)\n",
            "the input array must have size 3 along `channel_axis`, got (300, 289)\n",
            "the input array must have size 3 along `channel_axis`, got (360, 319)\n",
            "the input array must have size 3 along `channel_axis`, got (500, 377)\n",
            "the input array must have size 3 along `channel_axis`, got (300, 289)\n",
            "the input array must have size 3 along `channel_axis`, got (1427, 1275)\n",
            "the input array must have size 3 along `channel_axis`, got (1024, 1024)\n",
            "the input array must have size 3 along `channel_axis`, got (294, 250)\n",
            "the input array must have size 3 along `channel_axis`, got (325, 300)\n",
            "the input array must have size 3 along `channel_axis`, got (360, 319)\n",
            "the input array must have size 3 along `channel_axis`, got (278, 236)\n",
            "the input array must have size 3 along `channel_axis`, got (325, 300)\n",
            "the input array must have size 3 along `channel_axis`, got (938, 911)\n",
            "the input array must have size 3 along `channel_axis`, got (325, 300)\n",
            "the input array must have size 3 along `channel_axis`, got (325, 300)\n",
            "the input array must have size 3 along `channel_axis`, got (294, 250)\n",
            "the input array must have size 3 along `channel_axis`, got (938, 911)\n",
            "the input array must have size 3 along `channel_axis`, got (325, 300)\n",
            "the input array must have size 3 along `channel_axis`, got (1427, 1275)\n",
            "the input array must have size 3 along `channel_axis`, got (500, 377)\n",
            "the input array must have size 3 along `channel_axis`, got (336, 300)\n",
            "the input array must have size 3 along `channel_axis`, got (300, 240)\n",
            "the input array must have size 3 along `channel_axis`, got (1024, 1024)\n",
            "the input array must have size 3 along `channel_axis`, got (938, 911)\n",
            "the input array must have size 3 along `channel_axis`, got (336, 300)\n",
            "the input array must have size 3 along `channel_axis`, got (294, 250)\n",
            "the input array must have size 3 along `channel_axis`, got (325, 300)\n",
            "the input array must have size 3 along `channel_axis`, got (300, 240)\n",
            "the input array must have size 3 along `channel_axis`, got (1427, 1275)\n",
            "the input array must have size 3 along `channel_axis`, got (1024, 1024)\n",
            "the input array must have size 3 along `channel_axis`, got (294, 250)\n",
            "the input array must have size 3 along `channel_axis`, got (938, 911)\n",
            "the input array must have size 3 along `channel_axis`, got (1427, 1275)\n",
            "the input array must have size 3 along `channel_axis`, got (500, 377)\n",
            "the input array must have size 3 along `channel_axis`, got (325, 300)\n",
            "the input array must have size 3 along `channel_axis`, got (300, 240)\n",
            "the input array must have size 3 along `channel_axis`, got (336, 300)\n",
            "the input array must have size 3 along `channel_axis`, got (1024, 1024)\n",
            "the input array must have size 3 along `channel_axis`, got (300, 289)\n",
            "the input array must have size 3 along `channel_axis`, got (500, 377)\n",
            "the input array must have size 3 along `channel_axis`, got (938, 911)\n",
            "the input array must have size 3 along `channel_axis`, got (325, 300)\n",
            "the input array must have size 3 along `channel_axis`, got (1427, 1275)\n",
            "the input array must have size 3 along `channel_axis`, got (300, 240)\n",
            "the input array must have size 3 along `channel_axis`, got (294, 250)\n",
            "the input array must have size 3 along `channel_axis`, got (360, 319)\n",
            "the input array must have size 3 along `channel_axis`, got (336, 300)\n",
            "the input array must have size 3 along `channel_axis`, got (300, 289)\n",
            "the input array must have size 3 along `channel_axis`, got (1024, 1024)\n",
            "the input array must have size 3 along `channel_axis`, got (360, 319)\n",
            "the input array must have size 3 along `channel_axis`, got (938, 911)\n",
            "the input array must have size 3 along `channel_axis`, got (1427, 1275)\n",
            "the input array must have size 3 along `channel_axis`, got (325, 300)\n",
            "the input array must have size 3 along `channel_axis`, got (336, 300)\n",
            "the input array must have size 3 along `channel_axis`, got (500, 377)\n",
            "the input array must have size 3 along `channel_axis`, got (294, 250)\n",
            "the input array must have size 3 along `channel_axis`, got (300, 240)\n",
            "the input array must have size 3 along `channel_axis`, got (1024, 1024)\n",
            "the input array must have size 3 along `channel_axis`, got (300, 289)\n",
            "the input array must have size 3 along `channel_axis`, got (360, 319)\n",
            "the input array must have size 3 along `channel_axis`, got (294, 250)\n",
            "the input array must have size 3 along `channel_axis`, got (325, 300)\n",
            "the input array must have size 3 along `channel_axis`, got (938, 911)\n",
            "the input array must have size 3 along `channel_axis`, got (1427, 1275)\n",
            "the input array must have size 3 along `channel_axis`, got (300, 240)\n",
            "the input array must have size 3 along `channel_axis`, got (1427, 1275)\n",
            "the input array must have size 3 along `channel_axis`, got (325, 300)\n",
            "the input array must have size 3 along `channel_axis`, got (336, 300)\n",
            "the input array must have size 3 along `channel_axis`, got (278, 236)\n",
            "the input array must have size 3 along `channel_axis`, got (294, 250)\n",
            "the input array must have size 3 along `channel_axis`, got (1427, 1275)\n",
            "the input array must have size 3 along `channel_axis`, got (300, 240)\n",
            "the input array must have size 3 along `channel_axis`, got (325, 300)\n",
            "the input array must have size 3 along `channel_axis`, got (938, 911)\n",
            "the input array must have size 3 along `channel_axis`, got (294, 250)\n",
            "the input array must have size 3 along `channel_axis`, got (500, 377)\n",
            "the input array must have size 3 along `channel_axis`, got (360, 319)\n",
            "the input array must have size 3 along `channel_axis`, got (300, 240)\n",
            "the input array must have size 3 along `channel_axis`, got (336, 300)\n",
            "the input array must have size 3 along `channel_axis`, got (336, 300)\n",
            "the input array must have size 3 along `channel_axis`, got (1024, 1024)\n",
            "the input array must have size 3 along `channel_axis`, got (1427, 1275)\n",
            "the input array must have size 3 along `channel_axis`, got (938, 911)\n",
            "the input array must have size 3 along `channel_axis`, got (294, 250)\n",
            "the input array must have size 3 along `channel_axis`, got (325, 300)\n",
            "the input array must have size 3 along `channel_axis`, got (300, 240)\n",
            "the input array must have size 3 along `channel_axis`, got (336, 300)\n",
            "the input array must have size 3 along `channel_axis`, got (500, 377)\n",
            "the input array must have size 3 along `channel_axis`, got (1024, 1024)\n",
            "the input array must have size 3 along `channel_axis`, got (294, 250)\n",
            "the input array must have size 3 along `channel_axis`, got (630, 630)\n",
            "the input array must have size 3 along `channel_axis`, got (275, 220)\n",
            "the input array must have size 3 along `channel_axis`, got (630, 630)\n",
            "the input array must have size 3 along `channel_axis`, got (442, 442)\n",
            "the input array must have size 3 along `channel_axis`, got (275, 220)\n",
            "the input array must have size 3 along `channel_axis`, got (225, 225)\n",
            "the input array must have size 3 along `channel_axis`, got (1024, 1024)\n",
            "the input array must have size 3 along `channel_axis`, got (512, 512, 4)\n",
            "the input array must have size 3 along `channel_axis`, got (630, 630)\n",
            "the input array must have size 3 along `channel_axis`, got (275, 220)\n",
            "the input array must have size 3 along `channel_axis`, got (442, 409)\n",
            "the input array must have size 3 along `channel_axis`, got (664, 550, 4)\n",
            "the input array must have size 3 along `channel_axis`, got (750, 750)\n",
            "the input array must have size 3 along `channel_axis`, got (725, 728, 4)\n",
            "the input array must have size 3 along `channel_axis`, got (301, 275)\n",
            "the input array must have size 3 along `channel_axis`, got (630, 630)\n",
            "the input array must have size 3 along `channel_axis`, got (442, 442)\n",
            "the input array must have size 3 along `channel_axis`, got (1024, 1024)\n",
            "the input array must have size 3 along `channel_axis`, got (442, 442)\n",
            "the input array must have size 3 along `channel_axis`, got (301, 275)\n",
            "the input array must have size 3 along `channel_axis`, got (275, 220)\n",
            "the input array must have size 3 along `channel_axis`, got (630, 630)\n",
            "the input array must have size 3 along `channel_axis`, got (301, 275)\n",
            "the input array must have size 3 along `channel_axis`, got (630, 630)\n",
            "the input array must have size 3 along `channel_axis`, got (630, 630)\n",
            "the input array must have size 3 along `channel_axis`, got (301, 275)\n",
            "the input array must have size 3 along `channel_axis`, got (442, 409)\n",
            "the input array must have size 3 along `channel_axis`, got (664, 550, 4)\n",
            "the input array must have size 3 along `channel_axis`, got (275, 220)\n",
            "the input array must have size 3 along `channel_axis`, got (225, 225)\n",
            "the input array must have size 3 along `channel_axis`, got (725, 728, 4)\n",
            "the input array must have size 3 along `channel_axis`, got (400, 393, 4)\n",
            "the input array must have size 3 along `channel_axis`, got (1024, 1024)\n",
            "the input array must have size 3 along `channel_axis`, got (454, 442, 4)\n",
            "the input array must have size 3 along `channel_axis`, got (630, 630)\n",
            "the input array must have size 3 along `channel_axis`, got (442, 442)\n",
            "the input array must have size 3 along `channel_axis`, got (630, 630)\n",
            "the input array must have size 3 along `channel_axis`, got (630, 630)\n",
            "the input array must have size 3 along `channel_axis`, got (442, 442)\n",
            "the input array must have size 3 along `channel_axis`, got (275, 220)\n",
            "the input array must have size 3 along `channel_axis`, got (630, 630)\n",
            "the input array must have size 3 along `channel_axis`, got (630, 630)\n",
            "the input array must have size 3 along `channel_axis`, got (630, 630)\n",
            "the input array must have size 3 along `channel_axis`, got (630, 630)\n",
            "the input array must have size 3 along `channel_axis`, got (630, 630)\n",
            "the input array must have size 3 along `channel_axis`, got (630, 630)\n",
            "the input array must have size 3 along `channel_axis`, got (630, 630)\n"
          ]
        }
      ]
    },
    {
      "cell_type": "code",
      "source": [
        "X_train, X_test, y_train, y_test = train_test_split(X, y, test_size=0.2, random_state=42)"
      ],
      "metadata": {
        "id": "mLwV0JbXKbci"
      },
      "execution_count": 14,
      "outputs": []
    },
    {
      "cell_type": "code",
      "source": [
        "clf = KNeighborsClassifier()\n",
        "clf.fit(X_train, y_train)\n",
        "\n",
        "# evaluate accuracy on test set\n",
        "y_pred = clf.predict(X_test)\n",
        "acc = accuracy_score(y_test, y_pred)\n",
        "print('Accuracy:', acc)"
      ],
      "metadata": {
        "colab": {
          "base_uri": "https://localhost:8080/"
        },
        "id": "M86VpV7TKo1U",
        "outputId": "c7670044-3019-426c-c74a-228536e8a70b"
      },
      "execution_count": 15,
      "outputs": [
        {
          "output_type": "stream",
          "name": "stdout",
          "text": [
            "Accuracy: 0.8994413407821229\n"
          ]
        }
      ]
    }
  ]
}