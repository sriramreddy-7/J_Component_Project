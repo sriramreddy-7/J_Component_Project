{
  "nbformat": 4,
  "nbformat_minor": 0,
  "metadata": {
    "colab": {
      "provenance": [],
      "mount_file_id": "11cB2ugGGdDZjmAth-1LNqQd8tE0R0nfT",
      "authorship_tag": "ABX9TyPDG1R6djJ3LiE01R+bb7qI",
      "include_colab_link": true
    },
    "kernelspec": {
      "name": "python3",
      "display_name": "Python 3"
    },
    "language_info": {
      "name": "python"
    }
  },
  "cells": [
    {
      "cell_type": "markdown",
      "metadata": {
        "id": "view-in-github",
        "colab_type": "text"
      },
      "source": [
        "<a href=\"https://colab.research.google.com/github/sriramreddy-7/J_Component_Project/blob/main/SVM_M2.ipynb\" target=\"_parent\"><img src=\"https://colab.research.google.com/assets/colab-badge.svg\" alt=\"Open In Colab\"/></a>"
      ]
    },
    {
      "cell_type": "code",
      "execution_count": 20,
      "metadata": {
        "id": "92Lf_4mM6RAx"
      },
      "outputs": [],
      "source": [
        "import numpy as np\n",
        "import matplotlib.pyplot as plt\n",
        "import os\n",
        "from skimage.transform import resize\n",
        "from skimage.color import rgb2gray\n",
        "from sklearn.model_selection import train_test_split\n",
        "from sklearn import svm\n",
        "from sklearn.metrics import accuracy_score, confusion_matrix"
      ]
    },
    {
      "cell_type": "code",
      "source": [
        "data_dir = '/content/drive/MyDrive/J_CompAIML/DATASET/BTDS'\n",
        "classes = ['BrainTumor', 'Healthy']\n",
        "num_classes = len(classes)\n",
        "img_size = (150,150)\n"
      ],
      "metadata": {
        "id": "rVCcuxnQA-KL"
      },
      "execution_count": 17,
      "outputs": []
    },
    {
      "cell_type": "code",
      "source": [
        "X = []\n",
        "y = []\n",
        "for i in range(num_classes):\n",
        "    path = os.path.join(data_dir, classes[i])\n",
        "    for img in os.listdir(path):\n",
        "        try:\n",
        "            # resize images to a fixed size\n",
        "            img_array = resize(rgb2gray(plt.imread(os.path.join(path, img))), img_size)\n",
        "            X.append(img_array)\n",
        "            y.append(i)\n",
        "        except Exception as e:\n",
        "            print(e)\n",
        "\n",
        "\n",
        "X = np.array(X)\n",
        "y = np.array(y)"
      ],
      "metadata": {
        "colab": {
          "base_uri": "https://localhost:8080/"
        },
        "id": "UC4cYtMJB9Ay",
        "outputId": "cd1300ec-00db-4eee-b46c-83dbbc0a59b2"
      },
      "execution_count": 21,
      "outputs": [
        {
          "output_type": "stream",
          "name": "stdout",
          "text": [
            "the input array must have size 3 along `channel_axis`, got (1024, 1024)\n",
            "the input array must have size 3 along `channel_axis`, got (300, 289)\n",
            "the input array must have size 3 along `channel_axis`, got (300, 289)\n",
            "the input array must have size 3 along `channel_axis`, got (1427, 1275)\n",
            "the input array must have size 3 along `channel_axis`, got (325, 300)\n",
            "the input array must have size 3 along `channel_axis`, got (294, 250)\n",
            "the input array must have size 3 along `channel_axis`, got (1427, 1275)\n",
            "the input array must have size 3 along `channel_axis`, got (938, 911)\n",
            "the input array must have size 3 along `channel_axis`, got (300, 289)\n",
            "the input array must have size 3 along `channel_axis`, got (1427, 1275)\n",
            "the input array must have size 3 along `channel_axis`, got (938, 911)\n",
            "the input array must have size 3 along `channel_axis`, got (336, 300)\n",
            "the input array must have size 3 along `channel_axis`, got (1427, 1275)\n",
            "the input array must have size 3 along `channel_axis`, got (294, 250)\n",
            "the input array must have size 3 along `channel_axis`, got (325, 300)\n",
            "the input array must have size 3 along `channel_axis`, got (300, 240)\n",
            "the input array must have size 3 along `channel_axis`, got (500, 377)\n",
            "the input array must have size 3 along `channel_axis`, got (938, 911)\n",
            "the input array must have size 3 along `channel_axis`, got (294, 250)\n",
            "the input array must have size 3 along `channel_axis`, got (325, 300)\n",
            "the input array must have size 3 along `channel_axis`, got (1427, 1275)\n",
            "the input array must have size 3 along `channel_axis`, got (1024, 1024)\n",
            "the input array must have size 3 along `channel_axis`, got (1427, 1275)\n",
            "the input array must have size 3 along `channel_axis`, got (325, 300)\n",
            "the input array must have size 3 along `channel_axis`, got (500, 377)\n",
            "the input array must have size 3 along `channel_axis`, got (278, 236)\n",
            "the input array must have size 3 along `channel_axis`, got (325, 300)\n",
            "the input array must have size 3 along `channel_axis`, got (630, 630)\n",
            "the input array must have size 3 along `channel_axis`, got (630, 630)\n",
            "the input array must have size 3 along `channel_axis`, got (630, 630)\n",
            "the input array must have size 3 along `channel_axis`, got (630, 630)\n",
            "the input array must have size 3 along `channel_axis`, got (275, 220)\n",
            "the input array must have size 3 along `channel_axis`, got (630, 630)\n",
            "the input array must have size 3 along `channel_axis`, got (442, 442)\n",
            "the input array must have size 3 along `channel_axis`, got (275, 220)\n",
            "the input array must have size 3 along `channel_axis`, got (225, 225)\n",
            "the input array must have size 3 along `channel_axis`, got (1024, 1024)\n",
            "the input array must have size 3 along `channel_axis`, got (512, 512, 4)\n",
            "the input array must have size 3 along `channel_axis`, got (630, 630)\n",
            "the input array must have size 3 along `channel_axis`, got (275, 220)\n",
            "the input array must have size 3 along `channel_axis`, got (442, 409)\n",
            "the input array must have size 3 along `channel_axis`, got (750, 750)\n",
            "the input array must have size 3 along `channel_axis`, got (725, 728, 4)\n",
            "the input array must have size 3 along `channel_axis`, got (630, 630)\n",
            "the input array must have size 3 along `channel_axis`, got (442, 442)\n",
            "the input array must have size 3 along `channel_axis`, got (275, 220)\n",
            "the input array must have size 3 along `channel_axis`, got (630, 630)\n",
            "the input array must have size 3 along `channel_axis`, got (301, 275)\n",
            "the input array must have size 3 along `channel_axis`, got (630, 630)\n",
            "the input array must have size 3 along `channel_axis`, got (301, 275)\n",
            "the input array must have size 3 along `channel_axis`, got (442, 409)\n",
            "the input array must have size 3 along `channel_axis`, got (664, 550, 4)\n",
            "the input array must have size 3 along `channel_axis`, got (275, 220)\n",
            "the input array must have size 3 along `channel_axis`, got (225, 225)\n",
            "the input array must have size 3 along `channel_axis`, got (725, 728, 4)\n",
            "the input array must have size 3 along `channel_axis`, got (1024, 1024)\n",
            "the input array must have size 3 along `channel_axis`, got (454, 442, 4)\n",
            "the input array must have size 3 along `channel_axis`, got (630, 630)\n",
            "the input array must have size 3 along `channel_axis`, got (630, 630)\n",
            "the input array must have size 3 along `channel_axis`, got (630, 630)\n",
            "the input array must have size 3 along `channel_axis`, got (442, 442)\n",
            "the input array must have size 3 along `channel_axis`, got (275, 220)\n",
            "the input array must have size 3 along `channel_axis`, got (630, 630)\n",
            "the input array must have size 3 along `channel_axis`, got (630, 630)\n",
            "the input array must have size 3 along `channel_axis`, got (630, 630)\n",
            "the input array must have size 3 along `channel_axis`, got (400, 393, 4)\n",
            "the input array must have size 3 along `channel_axis`, got (301, 275)\n",
            "the input array must have size 3 along `channel_axis`, got (630, 630)\n",
            "the input array must have size 3 along `channel_axis`, got (664, 550, 4)\n",
            "the input array must have size 3 along `channel_axis`, got (301, 275)\n",
            "the input array must have size 3 along `channel_axis`, got (630, 630)\n",
            "the input array must have size 3 along `channel_axis`, got (442, 442)\n",
            "the input array must have size 3 along `channel_axis`, got (442, 442)\n",
            "the input array must have size 3 along `channel_axis`, got (1024, 1024)\n"
          ]
        }
      ]
    },
    {
      "cell_type": "code",
      "source": [
        "print(X)\n",
        "print(y)"
      ],
      "metadata": {
        "colab": {
          "base_uri": "https://localhost:8080/"
        },
        "id": "IoGFpZtpC_mA",
        "outputId": "2cb938ee-8dab-4060-a6d2-3967403ee88b"
      },
      "execution_count": 22,
      "outputs": [
        {
          "output_type": "stream",
          "name": "stdout",
          "text": [
            "[[[4.40039566e-02 1.86524748e-02 1.85496162e-02 ... 5.67831522e-02\n",
            "   3.53652692e-02 6.06847808e-02]\n",
            "  [2.46539002e-02 2.67195721e-03 5.56662648e-04 ... 5.01694454e-02\n",
            "   2.85004857e-02 5.56574386e-02]\n",
            "  [4.12516800e-02 1.58716071e-02 1.49660256e-02 ... 5.32101832e-02\n",
            "   2.56871491e-02 4.18262429e-02]\n",
            "  ...\n",
            "  [6.37407212e-02 3.02196783e-02 7.81226061e-03 ... 1.56889258e-02\n",
            "   1.88523245e-02 4.33305737e-02]\n",
            "  [1.03099797e-02 5.67353541e-03 2.23341684e-04 ... 4.26602584e-03\n",
            "   7.46166558e-03 2.95583162e-02]\n",
            "  [2.32861263e-02 3.99313325e-02 2.43629833e-02 ... 3.02375977e-02\n",
            "   3.60978903e-02 5.88264053e-02]]\n",
            "\n",
            " [[3.92156863e-03 3.92156863e-03 3.92156863e-03 ... 3.92156863e-03\n",
            "   3.92156863e-03 3.92156863e-03]\n",
            "  [3.92156863e-03 3.92156863e-03 3.92156863e-03 ... 3.92156863e-03\n",
            "   3.92156863e-03 3.92156863e-03]\n",
            "  [3.92156863e-03 3.92156863e-03 3.92156863e-03 ... 3.92156863e-03\n",
            "   3.92156863e-03 3.92156863e-03]\n",
            "  ...\n",
            "  [3.92156863e-03 3.92156863e-03 3.92156863e-03 ... 3.92156863e-03\n",
            "   3.92156863e-03 3.92156863e-03]\n",
            "  [3.92156863e-03 3.92156863e-03 3.92156863e-03 ... 3.92156863e-03\n",
            "   3.92156863e-03 3.92156863e-03]\n",
            "  [3.92156863e-03 3.92156863e-03 3.92156863e-03 ... 3.92156863e-03\n",
            "   3.92156863e-03 3.92156863e-03]]\n",
            "\n",
            " [[8.23529412e-02 8.23529412e-02 8.23529412e-02 ... 1.04349906e-01\n",
            "   1.01543884e-01 1.00342034e-01]\n",
            "  [8.23529412e-02 8.23529412e-02 8.23529412e-02 ... 1.15344044e-01\n",
            "   1.12390276e-01 1.11648499e-01]\n",
            "  [8.23529412e-02 8.23529412e-02 8.23529412e-02 ... 1.03067546e-01\n",
            "   1.03015798e-01 1.00131037e-01]\n",
            "  ...\n",
            "  [2.57779144e-01 2.74358689e-01 2.65036078e-01 ... 2.41686343e-01\n",
            "   2.41685869e-01 2.41685869e-01]\n",
            "  [3.55183865e-01 3.57451137e-01 3.35165693e-01 ... 2.41686343e-01\n",
            "   2.41685882e-01 2.41685882e-01]\n",
            "  [1.59778506e-01 1.88034955e-01 1.72723118e-01 ... 2.41686343e-01\n",
            "   2.41685882e-01 2.41685882e-01]]\n",
            "\n",
            " ...\n",
            "\n",
            " [[1.11808216e-02 1.11808216e-02 1.11808216e-02 ... 0.00000000e+00\n",
            "   0.00000000e+00 0.00000000e+00]\n",
            "  [5.58181661e-02 5.58181661e-02 5.58181661e-02 ... 0.00000000e+00\n",
            "   0.00000000e+00 0.00000000e+00]\n",
            "  [7.76231503e-02 7.76231503e-02 7.76231503e-02 ... 0.00000000e+00\n",
            "   0.00000000e+00 0.00000000e+00]\n",
            "  ...\n",
            "  [9.87903231e-02 9.87903231e-02 9.87903231e-02 ... 0.00000000e+00\n",
            "   0.00000000e+00 0.00000000e+00]\n",
            "  [9.31137770e-02 9.31137770e-02 9.31137770e-02 ... 0.00000000e+00\n",
            "   0.00000000e+00 0.00000000e+00]\n",
            "  [1.89266019e-02 1.89266019e-02 1.89266019e-02 ... 0.00000000e+00\n",
            "   0.00000000e+00 0.00000000e+00]]\n",
            "\n",
            " [[3.52941176e-02 3.52941177e-02 3.86274509e-02 ... 3.52941176e-02\n",
            "   3.52941176e-02 3.20392159e-02]\n",
            "  [3.52941176e-02 3.52941177e-02 3.86274509e-02 ... 3.52941176e-02\n",
            "   3.52941176e-02 3.20392159e-02]\n",
            "  [3.52941176e-02 3.52941177e-02 3.86274509e-02 ... 3.52941176e-02\n",
            "   3.52941176e-02 3.20392159e-02]\n",
            "  ...\n",
            "  [3.92156863e-02 3.92081805e-02 3.92009690e-02 ... 3.52794004e-02\n",
            "   3.52794003e-02 3.20367139e-02]\n",
            "  [3.92156863e-02 3.72589148e-02 3.53788794e-02 ... 3.14573109e-02\n",
            "   3.14573108e-02 3.13869585e-02]\n",
            "  [3.92156863e-02 3.72156863e-02 3.52941177e-02 ... 3.13725491e-02\n",
            "   3.13725490e-02 3.13725490e-02]]\n",
            "\n",
            " [[0.00000000e+00 0.00000000e+00 0.00000000e+00 ... 0.00000000e+00\n",
            "   0.00000000e+00 0.00000000e+00]\n",
            "  [0.00000000e+00 0.00000000e+00 0.00000000e+00 ... 0.00000000e+00\n",
            "   0.00000000e+00 0.00000000e+00]\n",
            "  [0.00000000e+00 0.00000000e+00 0.00000000e+00 ... 0.00000000e+00\n",
            "   0.00000000e+00 0.00000000e+00]\n",
            "  ...\n",
            "  [0.00000000e+00 0.00000000e+00 0.00000000e+00 ... 0.00000000e+00\n",
            "   0.00000000e+00 0.00000000e+00]\n",
            "  [0.00000000e+00 0.00000000e+00 0.00000000e+00 ... 0.00000000e+00\n",
            "   0.00000000e+00 0.00000000e+00]\n",
            "  [0.00000000e+00 0.00000000e+00 0.00000000e+00 ... 0.00000000e+00\n",
            "   0.00000000e+00 0.00000000e+00]]]\n",
            "[0 0 0 ... 1 1 1]\n"
          ]
        }
      ]
    },
    {
      "cell_type": "code",
      "source": [
        "X_train, X_test, y_train, y_test = train_test_split(X, y, test_size=0.2)"
      ],
      "metadata": {
        "id": "ZXYF4E3CGcF-"
      },
      "execution_count": 23,
      "outputs": []
    },
    {
      "cell_type": "code",
      "source": [
        "X_train = X_train.reshape(X_train.shape[0], -1)\n",
        "X_test = X_test.reshape(X_test.shape[0], -1)"
      ],
      "metadata": {
        "id": "zkI-_W04GhRg"
      },
      "execution_count": 24,
      "outputs": []
    },
    {
      "cell_type": "code",
      "source": [
        "model = svm.SVC(kernel='linear', C=1.0)\n",
        "model.fit(X_train, y_train)"
      ],
      "metadata": {
        "colab": {
          "base_uri": "https://localhost:8080/",
          "height": 74
        },
        "id": "4m7vunC-Gjxe",
        "outputId": "c4785361-9a77-4544-c7cc-1b142d20d966"
      },
      "execution_count": 25,
      "outputs": [
        {
          "output_type": "execute_result",
          "data": {
            "text/plain": [
              "SVC(kernel='linear')"
            ],
            "text/html": [
              "<style>#sk-container-id-1 {color: black;background-color: white;}#sk-container-id-1 pre{padding: 0;}#sk-container-id-1 div.sk-toggleable {background-color: white;}#sk-container-id-1 label.sk-toggleable__label {cursor: pointer;display: block;width: 100%;margin-bottom: 0;padding: 0.3em;box-sizing: border-box;text-align: center;}#sk-container-id-1 label.sk-toggleable__label-arrow:before {content: \"▸\";float: left;margin-right: 0.25em;color: #696969;}#sk-container-id-1 label.sk-toggleable__label-arrow:hover:before {color: black;}#sk-container-id-1 div.sk-estimator:hover label.sk-toggleable__label-arrow:before {color: black;}#sk-container-id-1 div.sk-toggleable__content {max-height: 0;max-width: 0;overflow: hidden;text-align: left;background-color: #f0f8ff;}#sk-container-id-1 div.sk-toggleable__content pre {margin: 0.2em;color: black;border-radius: 0.25em;background-color: #f0f8ff;}#sk-container-id-1 input.sk-toggleable__control:checked~div.sk-toggleable__content {max-height: 200px;max-width: 100%;overflow: auto;}#sk-container-id-1 input.sk-toggleable__control:checked~label.sk-toggleable__label-arrow:before {content: \"▾\";}#sk-container-id-1 div.sk-estimator input.sk-toggleable__control:checked~label.sk-toggleable__label {background-color: #d4ebff;}#sk-container-id-1 div.sk-label input.sk-toggleable__control:checked~label.sk-toggleable__label {background-color: #d4ebff;}#sk-container-id-1 input.sk-hidden--visually {border: 0;clip: rect(1px 1px 1px 1px);clip: rect(1px, 1px, 1px, 1px);height: 1px;margin: -1px;overflow: hidden;padding: 0;position: absolute;width: 1px;}#sk-container-id-1 div.sk-estimator {font-family: monospace;background-color: #f0f8ff;border: 1px dotted black;border-radius: 0.25em;box-sizing: border-box;margin-bottom: 0.5em;}#sk-container-id-1 div.sk-estimator:hover {background-color: #d4ebff;}#sk-container-id-1 div.sk-parallel-item::after {content: \"\";width: 100%;border-bottom: 1px solid gray;flex-grow: 1;}#sk-container-id-1 div.sk-label:hover label.sk-toggleable__label {background-color: #d4ebff;}#sk-container-id-1 div.sk-serial::before {content: \"\";position: absolute;border-left: 1px solid gray;box-sizing: border-box;top: 0;bottom: 0;left: 50%;z-index: 0;}#sk-container-id-1 div.sk-serial {display: flex;flex-direction: column;align-items: center;background-color: white;padding-right: 0.2em;padding-left: 0.2em;position: relative;}#sk-container-id-1 div.sk-item {position: relative;z-index: 1;}#sk-container-id-1 div.sk-parallel {display: flex;align-items: stretch;justify-content: center;background-color: white;position: relative;}#sk-container-id-1 div.sk-item::before, #sk-container-id-1 div.sk-parallel-item::before {content: \"\";position: absolute;border-left: 1px solid gray;box-sizing: border-box;top: 0;bottom: 0;left: 50%;z-index: -1;}#sk-container-id-1 div.sk-parallel-item {display: flex;flex-direction: column;z-index: 1;position: relative;background-color: white;}#sk-container-id-1 div.sk-parallel-item:first-child::after {align-self: flex-end;width: 50%;}#sk-container-id-1 div.sk-parallel-item:last-child::after {align-self: flex-start;width: 50%;}#sk-container-id-1 div.sk-parallel-item:only-child::after {width: 0;}#sk-container-id-1 div.sk-dashed-wrapped {border: 1px dashed gray;margin: 0 0.4em 0.5em 0.4em;box-sizing: border-box;padding-bottom: 0.4em;background-color: white;}#sk-container-id-1 div.sk-label label {font-family: monospace;font-weight: bold;display: inline-block;line-height: 1.2em;}#sk-container-id-1 div.sk-label-container {text-align: center;}#sk-container-id-1 div.sk-container {/* jupyter's `normalize.less` sets `[hidden] { display: none; }` but bootstrap.min.css set `[hidden] { display: none !important; }` so we also need the `!important` here to be able to override the default hidden behavior on the sphinx rendered scikit-learn.org. See: https://github.com/scikit-learn/scikit-learn/issues/21755 */display: inline-block !important;position: relative;}#sk-container-id-1 div.sk-text-repr-fallback {display: none;}</style><div id=\"sk-container-id-1\" class=\"sk-top-container\"><div class=\"sk-text-repr-fallback\"><pre>SVC(kernel=&#x27;linear&#x27;)</pre><b>In a Jupyter environment, please rerun this cell to show the HTML representation or trust the notebook. <br />On GitHub, the HTML representation is unable to render, please try loading this page with nbviewer.org.</b></div><div class=\"sk-container\" hidden><div class=\"sk-item\"><div class=\"sk-estimator sk-toggleable\"><input class=\"sk-toggleable__control sk-hidden--visually\" id=\"sk-estimator-id-1\" type=\"checkbox\" checked><label for=\"sk-estimator-id-1\" class=\"sk-toggleable__label sk-toggleable__label-arrow\">SVC</label><div class=\"sk-toggleable__content\"><pre>SVC(kernel=&#x27;linear&#x27;)</pre></div></div></div></div></div>"
            ]
          },
          "metadata": {},
          "execution_count": 25
        }
      ]
    },
    {
      "cell_type": "code",
      "source": [
        "y_pred = model.predict(X_test)"
      ],
      "metadata": {
        "id": "bnDytZvGGnda"
      },
      "execution_count": 26,
      "outputs": []
    },
    {
      "cell_type": "code",
      "source": [
        "acc = accuracy_score(y_test, y_pred)"
      ],
      "metadata": {
        "id": "PkGJ5xeyG3-5"
      },
      "execution_count": 27,
      "outputs": []
    },
    {
      "cell_type": "code",
      "source": [
        "print(\"Accuracy:\", acc)"
      ],
      "metadata": {
        "colab": {
          "base_uri": "https://localhost:8080/"
        },
        "id": "uc6wkQjiG6SB",
        "outputId": "64563fe8-41d8-4c70-fe20-33b00e3f462a"
      },
      "execution_count": 28,
      "outputs": [
        {
          "output_type": "stream",
          "name": "stdout",
          "text": [
            "Accuracy: 0.9266917293233082\n"
          ]
        }
      ]
    },
    {
      "cell_type": "code",
      "source": [
        "cm = confusion_matrix(y_test, y_pred)\n",
        "print(\"Confusion Matrix:\\n\", cm)"
      ],
      "metadata": {
        "colab": {
          "base_uri": "https://localhost:8080/"
        },
        "id": "W4d7XXw9G9JS",
        "outputId": "51425583-2f15-445d-ee4d-7bae809e4aa0"
      },
      "execution_count": 29,
      "outputs": [
        {
          "output_type": "stream",
          "name": "stdout",
          "text": [
            "Confusion Matrix:\n",
            " [[102  23]\n",
            " [ 16 391]]\n"
          ]
        }
      ]
    }
  ]
}