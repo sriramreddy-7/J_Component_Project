{
  "nbformat": 4,
  "nbformat_minor": 0,
  "metadata": {
    "colab": {
      "provenance": [],
      "mount_file_id": "1eTOs5pCxHlJWwnJY3wQumGsuGa4SeMCy",
      "authorship_tag": "ABX9TyN1ZUTbYfIXQ7YdSLSdrCh0",
      "include_colab_link": true
    },
    "kernelspec": {
      "name": "python3",
      "display_name": "Python 3"
    },
    "language_info": {
      "name": "python"
    }
  },
  "cells": [
    {
      "cell_type": "markdown",
      "metadata": {
        "id": "view-in-github",
        "colab_type": "text"
      },
      "source": [
        "<a href=\"https://colab.research.google.com/github/sriramreddy-7/J_Component_Project/blob/main/Logistic_Regression.ipynb\" target=\"_parent\"><img src=\"https://colab.research.google.com/assets/colab-badge.svg\" alt=\"Open In Colab\"/></a>"
      ]
    },
    {
      "cell_type": "code",
      "execution_count": 8,
      "metadata": {
        "id": "PhvngqhbLGqr"
      },
      "outputs": [],
      "source": [
        "import os\n",
        "import numpy as np\n",
        "from skimage.io import imread\n",
        "import matplotlib.pyplot as plt\n",
        "from skimage.color import rgb2gray\n",
        "from skimage.transform import resize\n",
        "from sklearn.model_selection import train_test_split\n",
        "from sklearn.linear_model import LogisticRegression\n",
        "from sklearn.metrics import accuracy_score"
      ]
    },
    {
      "cell_type": "code",
      "source": [
        "data_dir = '/content/drive/MyDrive/J_CompAIML/DATASET/BTDS'\n",
        "classes = ['BrainTumor', 'Healthy']\n",
        "num_classes = len(classes)\n",
        "img_size = (200,200)"
      ],
      "metadata": {
        "id": "nEkTcGi6LQsv"
      },
      "execution_count": 2,
      "outputs": []
    },
    {
      "cell_type": "code",
      "source": [],
      "metadata": {
        "id": "rpRk5vMILbAX"
      },
      "execution_count": 3,
      "outputs": []
    },
    {
      "cell_type": "code",
      "source": [
        "X = []\n",
        "y = []\n",
        "for i in range(num_classes):\n",
        "    path = os.path.join(data_dir, classes[i])\n",
        "    for img in os.listdir(path):\n",
        "        try:\n",
        "            img_array = resize(rgb2gray(plt.imread(os.path.join(path, img))), img_size)\n",
        "            X.append(img_array)\n",
        "            y.append(i)\n",
        "        except Exception as e:\n",
        "            print(e)\n",
        "\n",
        "\n",
        "X = np.array(X)\n",
        "y = np.array(y)"
      ],
      "metadata": {
        "colab": {
          "base_uri": "https://localhost:8080/"
        },
        "id": "0slaC2ZMLcKt",
        "outputId": "0a0896d8-e5f4-4007-cf32-c6ab3977a1e6"
      },
      "execution_count": 14,
      "outputs": [
        {
          "output_type": "stream",
          "name": "stdout",
          "text": [
            "the input array must have size 3 along `channel_axis`, got (300, 289)\n",
            "the input array must have size 3 along `channel_axis`, got (336, 300)\n",
            "the input array must have size 3 along `channel_axis`, got (1024, 1024)\n",
            "the input array must have size 3 along `channel_axis`, got (300, 289)\n",
            "the input array must have size 3 along `channel_axis`, got (360, 319)\n",
            "the input array must have size 3 along `channel_axis`, got (500, 377)\n",
            "the input array must have size 3 along `channel_axis`, got (300, 289)\n",
            "the input array must have size 3 along `channel_axis`, got (1427, 1275)\n",
            "the input array must have size 3 along `channel_axis`, got (1024, 1024)\n",
            "the input array must have size 3 along `channel_axis`, got (294, 250)\n",
            "the input array must have size 3 along `channel_axis`, got (325, 300)\n",
            "the input array must have size 3 along `channel_axis`, got (360, 319)\n",
            "the input array must have size 3 along `channel_axis`, got (278, 236)\n",
            "the input array must have size 3 along `channel_axis`, got (325, 300)\n",
            "the input array must have size 3 along `channel_axis`, got (938, 911)\n",
            "the input array must have size 3 along `channel_axis`, got (325, 300)\n",
            "the input array must have size 3 along `channel_axis`, got (325, 300)\n",
            "the input array must have size 3 along `channel_axis`, got (294, 250)\n",
            "the input array must have size 3 along `channel_axis`, got (938, 911)\n",
            "the input array must have size 3 along `channel_axis`, got (325, 300)\n",
            "the input array must have size 3 along `channel_axis`, got (1427, 1275)\n",
            "the input array must have size 3 along `channel_axis`, got (500, 377)\n",
            "the input array must have size 3 along `channel_axis`, got (336, 300)\n",
            "the input array must have size 3 along `channel_axis`, got (300, 240)\n",
            "the input array must have size 3 along `channel_axis`, got (1024, 1024)\n",
            "the input array must have size 3 along `channel_axis`, got (938, 911)\n",
            "the input array must have size 3 along `channel_axis`, got (336, 300)\n",
            "the input array must have size 3 along `channel_axis`, got (294, 250)\n",
            "the input array must have size 3 along `channel_axis`, got (325, 300)\n",
            "the input array must have size 3 along `channel_axis`, got (300, 240)\n",
            "the input array must have size 3 along `channel_axis`, got (1427, 1275)\n",
            "the input array must have size 3 along `channel_axis`, got (1024, 1024)\n",
            "the input array must have size 3 along `channel_axis`, got (294, 250)\n",
            "the input array must have size 3 along `channel_axis`, got (938, 911)\n",
            "the input array must have size 3 along `channel_axis`, got (1427, 1275)\n",
            "the input array must have size 3 along `channel_axis`, got (500, 377)\n",
            "the input array must have size 3 along `channel_axis`, got (325, 300)\n",
            "the input array must have size 3 along `channel_axis`, got (300, 240)\n",
            "the input array must have size 3 along `channel_axis`, got (336, 300)\n",
            "the input array must have size 3 along `channel_axis`, got (1024, 1024)\n",
            "the input array must have size 3 along `channel_axis`, got (300, 289)\n",
            "the input array must have size 3 along `channel_axis`, got (500, 377)\n",
            "the input array must have size 3 along `channel_axis`, got (938, 911)\n",
            "the input array must have size 3 along `channel_axis`, got (325, 300)\n",
            "the input array must have size 3 along `channel_axis`, got (1427, 1275)\n",
            "the input array must have size 3 along `channel_axis`, got (300, 240)\n",
            "the input array must have size 3 along `channel_axis`, got (294, 250)\n",
            "the input array must have size 3 along `channel_axis`, got (360, 319)\n",
            "the input array must have size 3 along `channel_axis`, got (336, 300)\n",
            "the input array must have size 3 along `channel_axis`, got (300, 289)\n",
            "the input array must have size 3 along `channel_axis`, got (1024, 1024)\n",
            "the input array must have size 3 along `channel_axis`, got (360, 319)\n",
            "the input array must have size 3 along `channel_axis`, got (938, 911)\n",
            "the input array must have size 3 along `channel_axis`, got (1427, 1275)\n",
            "the input array must have size 3 along `channel_axis`, got (325, 300)\n",
            "the input array must have size 3 along `channel_axis`, got (336, 300)\n",
            "the input array must have size 3 along `channel_axis`, got (500, 377)\n",
            "the input array must have size 3 along `channel_axis`, got (294, 250)\n",
            "the input array must have size 3 along `channel_axis`, got (300, 240)\n",
            "the input array must have size 3 along `channel_axis`, got (1024, 1024)\n",
            "the input array must have size 3 along `channel_axis`, got (300, 289)\n",
            "the input array must have size 3 along `channel_axis`, got (360, 319)\n",
            "the input array must have size 3 along `channel_axis`, got (294, 250)\n",
            "the input array must have size 3 along `channel_axis`, got (325, 300)\n",
            "the input array must have size 3 along `channel_axis`, got (938, 911)\n",
            "the input array must have size 3 along `channel_axis`, got (1427, 1275)\n",
            "the input array must have size 3 along `channel_axis`, got (300, 240)\n",
            "the input array must have size 3 along `channel_axis`, got (1427, 1275)\n",
            "the input array must have size 3 along `channel_axis`, got (325, 300)\n",
            "the input array must have size 3 along `channel_axis`, got (336, 300)\n",
            "the input array must have size 3 along `channel_axis`, got (278, 236)\n",
            "the input array must have size 3 along `channel_axis`, got (294, 250)\n",
            "the input array must have size 3 along `channel_axis`, got (1427, 1275)\n",
            "the input array must have size 3 along `channel_axis`, got (300, 240)\n",
            "the input array must have size 3 along `channel_axis`, got (325, 300)\n",
            "the input array must have size 3 along `channel_axis`, got (938, 911)\n",
            "the input array must have size 3 along `channel_axis`, got (294, 250)\n",
            "the input array must have size 3 along `channel_axis`, got (500, 377)\n",
            "the input array must have size 3 along `channel_axis`, got (360, 319)\n",
            "the input array must have size 3 along `channel_axis`, got (300, 240)\n",
            "the input array must have size 3 along `channel_axis`, got (336, 300)\n",
            "the input array must have size 3 along `channel_axis`, got (336, 300)\n",
            "the input array must have size 3 along `channel_axis`, got (1024, 1024)\n",
            "the input array must have size 3 along `channel_axis`, got (1427, 1275)\n",
            "the input array must have size 3 along `channel_axis`, got (938, 911)\n",
            "the input array must have size 3 along `channel_axis`, got (294, 250)\n",
            "the input array must have size 3 along `channel_axis`, got (325, 300)\n",
            "the input array must have size 3 along `channel_axis`, got (300, 240)\n",
            "the input array must have size 3 along `channel_axis`, got (336, 300)\n",
            "the input array must have size 3 along `channel_axis`, got (500, 377)\n",
            "the input array must have size 3 along `channel_axis`, got (1024, 1024)\n",
            "the input array must have size 3 along `channel_axis`, got (294, 250)\n",
            "the input array must have size 3 along `channel_axis`, got (630, 630)\n",
            "the input array must have size 3 along `channel_axis`, got (275, 220)\n",
            "the input array must have size 3 along `channel_axis`, got (630, 630)\n",
            "the input array must have size 3 along `channel_axis`, got (442, 442)\n",
            "the input array must have size 3 along `channel_axis`, got (275, 220)\n",
            "the input array must have size 3 along `channel_axis`, got (225, 225)\n",
            "the input array must have size 3 along `channel_axis`, got (1024, 1024)\n",
            "the input array must have size 3 along `channel_axis`, got (512, 512, 4)\n",
            "the input array must have size 3 along `channel_axis`, got (630, 630)\n",
            "the input array must have size 3 along `channel_axis`, got (275, 220)\n",
            "the input array must have size 3 along `channel_axis`, got (442, 409)\n",
            "the input array must have size 3 along `channel_axis`, got (664, 550, 4)\n",
            "the input array must have size 3 along `channel_axis`, got (750, 750)\n",
            "the input array must have size 3 along `channel_axis`, got (725, 728, 4)\n",
            "the input array must have size 3 along `channel_axis`, got (301, 275)\n",
            "the input array must have size 3 along `channel_axis`, got (630, 630)\n",
            "the input array must have size 3 along `channel_axis`, got (442, 442)\n",
            "the input array must have size 3 along `channel_axis`, got (1024, 1024)\n",
            "the input array must have size 3 along `channel_axis`, got (442, 442)\n",
            "the input array must have size 3 along `channel_axis`, got (301, 275)\n",
            "the input array must have size 3 along `channel_axis`, got (275, 220)\n",
            "the input array must have size 3 along `channel_axis`, got (630, 630)\n",
            "the input array must have size 3 along `channel_axis`, got (301, 275)\n",
            "the input array must have size 3 along `channel_axis`, got (630, 630)\n",
            "the input array must have size 3 along `channel_axis`, got (630, 630)\n",
            "the input array must have size 3 along `channel_axis`, got (301, 275)\n",
            "the input array must have size 3 along `channel_axis`, got (442, 409)\n",
            "the input array must have size 3 along `channel_axis`, got (664, 550, 4)\n",
            "the input array must have size 3 along `channel_axis`, got (275, 220)\n",
            "the input array must have size 3 along `channel_axis`, got (225, 225)\n",
            "the input array must have size 3 along `channel_axis`, got (725, 728, 4)\n",
            "the input array must have size 3 along `channel_axis`, got (400, 393, 4)\n",
            "the input array must have size 3 along `channel_axis`, got (1024, 1024)\n",
            "the input array must have size 3 along `channel_axis`, got (454, 442, 4)\n",
            "the input array must have size 3 along `channel_axis`, got (630, 630)\n",
            "the input array must have size 3 along `channel_axis`, got (442, 442)\n",
            "the input array must have size 3 along `channel_axis`, got (630, 630)\n",
            "the input array must have size 3 along `channel_axis`, got (630, 630)\n",
            "the input array must have size 3 along `channel_axis`, got (442, 442)\n",
            "the input array must have size 3 along `channel_axis`, got (275, 220)\n",
            "the input array must have size 3 along `channel_axis`, got (630, 630)\n",
            "the input array must have size 3 along `channel_axis`, got (630, 630)\n",
            "the input array must have size 3 along `channel_axis`, got (630, 630)\n",
            "the input array must have size 3 along `channel_axis`, got (630, 630)\n",
            "the input array must have size 3 along `channel_axis`, got (630, 630)\n",
            "the input array must have size 3 along `channel_axis`, got (630, 630)\n",
            "the input array must have size 3 along `channel_axis`, got (630, 630)\n"
          ]
        }
      ]
    },
    {
      "cell_type": "code",
      "source": [
        "print(X)\n",
        "print(y)"
      ],
      "metadata": {
        "colab": {
          "base_uri": "https://localhost:8080/"
        },
        "id": "itFLzMU7MZa7",
        "outputId": "5c22c5e0-46b9-44de-aaa2-a0ffbde9ddd0"
      },
      "execution_count": 19,
      "outputs": [
        {
          "output_type": "stream",
          "name": "stdout",
          "text": [
            "[[[1.55686275e-02 1.14117647e-02 7.25490196e-03 ... 0.00000000e+00\n",
            "   0.00000000e+00 0.00000000e+00]\n",
            "  [1.55686275e-02 1.14117647e-02 7.25490196e-03 ... 0.00000000e+00\n",
            "   0.00000000e+00 0.00000000e+00]\n",
            "  [1.55686275e-02 1.14117647e-02 7.25490196e-03 ... 0.00000000e+00\n",
            "   0.00000000e+00 0.00000000e+00]\n",
            "  ...\n",
            "  [0.00000000e+00 0.00000000e+00 0.00000000e+00 ... 0.00000000e+00\n",
            "   0.00000000e+00 0.00000000e+00]\n",
            "  [0.00000000e+00 0.00000000e+00 0.00000000e+00 ... 0.00000000e+00\n",
            "   0.00000000e+00 0.00000000e+00]\n",
            "  [0.00000000e+00 0.00000000e+00 0.00000000e+00 ... 0.00000000e+00\n",
            "   0.00000000e+00 0.00000000e+00]]\n",
            "\n",
            " [[0.00000000e+00 0.00000000e+00 0.00000000e+00 ... 0.00000000e+00\n",
            "   0.00000000e+00 0.00000000e+00]\n",
            "  [0.00000000e+00 0.00000000e+00 0.00000000e+00 ... 0.00000000e+00\n",
            "   0.00000000e+00 0.00000000e+00]\n",
            "  [0.00000000e+00 0.00000000e+00 0.00000000e+00 ... 0.00000000e+00\n",
            "   0.00000000e+00 0.00000000e+00]\n",
            "  ...\n",
            "  [0.00000000e+00 0.00000000e+00 0.00000000e+00 ... 0.00000000e+00\n",
            "   0.00000000e+00 0.00000000e+00]\n",
            "  [0.00000000e+00 0.00000000e+00 0.00000000e+00 ... 0.00000000e+00\n",
            "   0.00000000e+00 0.00000000e+00]\n",
            "  [0.00000000e+00 0.00000000e+00 0.00000000e+00 ... 0.00000000e+00\n",
            "   0.00000000e+00 0.00000000e+00]]\n",
            "\n",
            " [[0.00000000e+00 0.00000000e+00 0.00000000e+00 ... 0.00000000e+00\n",
            "   0.00000000e+00 0.00000000e+00]\n",
            "  [0.00000000e+00 0.00000000e+00 0.00000000e+00 ... 0.00000000e+00\n",
            "   0.00000000e+00 0.00000000e+00]\n",
            "  [0.00000000e+00 0.00000000e+00 0.00000000e+00 ... 0.00000000e+00\n",
            "   0.00000000e+00 0.00000000e+00]\n",
            "  ...\n",
            "  [0.00000000e+00 0.00000000e+00 1.23339961e-03 ... 0.00000000e+00\n",
            "   0.00000000e+00 0.00000000e+00]\n",
            "  [0.00000000e+00 0.00000000e+00 4.59426754e-07 ... 0.00000000e+00\n",
            "   0.00000000e+00 0.00000000e+00]\n",
            "  [0.00000000e+00 0.00000000e+00 0.00000000e+00 ... 0.00000000e+00\n",
            "   0.00000000e+00 0.00000000e+00]]\n",
            "\n",
            " ...\n",
            "\n",
            " [[7.84313725e-03 7.84313725e-03 7.84313725e-03 ... 7.84313725e-03\n",
            "   7.84313725e-03 7.84313725e-03]\n",
            "  [7.84313725e-03 7.84313725e-03 7.84313725e-03 ... 7.84313725e-03\n",
            "   7.84313725e-03 7.84313725e-03]\n",
            "  [7.84313725e-03 7.84313725e-03 7.84313725e-03 ... 7.84313725e-03\n",
            "   7.84313725e-03 7.84313725e-03]\n",
            "  ...\n",
            "  [7.84313725e-03 7.84313725e-03 7.84313725e-03 ... 3.92156863e-03\n",
            "   3.92156863e-03 3.92156863e-03]\n",
            "  [7.84313725e-03 7.84313725e-03 7.84313725e-03 ... 3.92156863e-03\n",
            "   3.92156863e-03 3.92156863e-03]\n",
            "  [7.84313725e-03 7.84313725e-03 7.84313725e-03 ... 3.92156863e-03\n",
            "   3.92156863e-03 3.92156863e-03]]\n",
            "\n",
            " [[0.00000000e+00 0.00000000e+00 0.00000000e+00 ... 0.00000000e+00\n",
            "   0.00000000e+00 0.00000000e+00]\n",
            "  [0.00000000e+00 0.00000000e+00 0.00000000e+00 ... 0.00000000e+00\n",
            "   0.00000000e+00 0.00000000e+00]\n",
            "  [0.00000000e+00 0.00000000e+00 0.00000000e+00 ... 0.00000000e+00\n",
            "   0.00000000e+00 0.00000000e+00]\n",
            "  ...\n",
            "  [0.00000000e+00 0.00000000e+00 0.00000000e+00 ... 0.00000000e+00\n",
            "   0.00000000e+00 0.00000000e+00]\n",
            "  [0.00000000e+00 0.00000000e+00 0.00000000e+00 ... 0.00000000e+00\n",
            "   0.00000000e+00 0.00000000e+00]\n",
            "  [0.00000000e+00 0.00000000e+00 0.00000000e+00 ... 0.00000000e+00\n",
            "   0.00000000e+00 0.00000000e+00]]\n",
            "\n",
            " [[1.56862745e-02 1.56862745e-02 1.56862745e-02 ... 1.56862745e-02\n",
            "   1.55534655e-02 1.21785147e-02]\n",
            "  [1.56862745e-02 1.56862745e-02 1.56862745e-02 ... 1.56862745e-02\n",
            "   1.55534655e-02 1.21785147e-02]\n",
            "  [1.56862745e-02 1.56862745e-02 1.56862745e-02 ... 1.56862745e-02\n",
            "   1.55534655e-02 1.21785147e-02]\n",
            "  ...\n",
            "  [1.56862745e-02 1.56862745e-02 1.56862745e-02 ... 1.56862745e-02\n",
            "   1.55786839e-02 1.28445831e-02]\n",
            "  [1.56862745e-02 1.56862745e-02 1.56862745e-02 ... 1.56862745e-02\n",
            "   1.56631553e-02 1.50756493e-02]\n",
            "  [1.56862745e-02 1.56862745e-02 1.56862745e-02 ... 1.56862745e-02\n",
            "   1.55194401e-02 1.12798329e-02]]]\n",
            "[0 0 0 ... 1 1 1]\n"
          ]
        }
      ]
    },
    {
      "cell_type": "code",
      "source": [
        "print(X.shape, y.shape)"
      ],
      "metadata": {
        "colab": {
          "base_uri": "https://localhost:8080/"
        },
        "id": "wHLzJPiiN8cK",
        "outputId": "6d3cf9e3-09b3-4576-ff85-c9a012092581"
      },
      "execution_count": 20,
      "outputs": [
        {
          "output_type": "stream",
          "name": "stdout",
          "text": [
            "(4473, 200, 200) (4473,)\n"
          ]
        }
      ]
    },
    {
      "cell_type": "code",
      "source": [
        "X_train, X_test, y_train, y_test = train_test_split(X, y, test_size=0.2, random_state=42)\n"
      ],
      "metadata": {
        "id": "MgrJUmPtMszx"
      },
      "execution_count": 21,
      "outputs": []
    },
    {
      "cell_type": "code",
      "source": [
        "model = LogisticRegression()\n",
        "X_train_flat = X_train.reshape(X_train.shape[0], -1)\n",
        "X_test_flat = X_test.reshape(X_test.shape[0], -1)\n",
        "\n",
        "model.fit(X_train_flat, y_train)\n",
        "\n",
        "\n",
        "y_pred = model.predict(X_test_flat)\n",
        "\n",
        "\n",
        "acc = accuracy_score(y_test, y_pred)"
      ],
      "metadata": {
        "colab": {
          "base_uri": "https://localhost:8080/"
        },
        "id": "utEEgSnsNVgS",
        "outputId": "b0b107ad-fc34-476d-e9a0-4291eccef42a"
      },
      "execution_count": 23,
      "outputs": [
        {
          "output_type": "stream",
          "name": "stderr",
          "text": [
            "/usr/local/lib/python3.9/dist-packages/sklearn/linear_model/_logistic.py:458: ConvergenceWarning: lbfgs failed to converge (status=1):\n",
            "STOP: TOTAL NO. of ITERATIONS REACHED LIMIT.\n",
            "\n",
            "Increase the number of iterations (max_iter) or scale the data as shown in:\n",
            "    https://scikit-learn.org/stable/modules/preprocessing.html\n",
            "Please also refer to the documentation for alternative solver options:\n",
            "    https://scikit-learn.org/stable/modules/linear_model.html#logistic-regression\n",
            "  n_iter_i = _check_optimize_result(\n"
          ]
        }
      ]
    },
    {
      "cell_type": "code",
      "source": [
        "print('Accuracy:', acc)\n",
        "print('Accuracy Percentage:',round(acc*100,3),\"%\")"
      ],
      "metadata": {
        "colab": {
          "base_uri": "https://localhost:8080/"
        },
        "id": "Bi2bY7vvPAKk",
        "outputId": "6bd6f913-3ab3-4789-c3b8-3b53b1ae5e84"
      },
      "execution_count": 26,
      "outputs": [
        {
          "output_type": "stream",
          "name": "stdout",
          "text": [
            "Accuracy: 0.9575418994413408\n",
            "Accuracy Percentage: 95.754 %\n"
          ]
        }
      ]
    }
  ]
}