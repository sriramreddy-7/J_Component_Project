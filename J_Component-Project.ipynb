{
  "nbformat": 4,
  "nbformat_minor": 0,
  "metadata": {
    "colab": {
      "provenance": [],
      "authorship_tag": "ABX9TyM4L/x3iRjUs8jSPJyqSOr6",
      "include_colab_link": true
    },
    "kernelspec": {
      "name": "python3",
      "display_name": "Python 3"
    },
    "language_info": {
      "name": "python"
    }
  },
  "cells": [
    {
      "cell_type": "markdown",
      "metadata": {
        "id": "view-in-github",
        "colab_type": "text"
      },
      "source": [
        "<a href=\"https://colab.research.google.com/github/sriramreddy-7/J_Component_Project/blob/main/J_Component-Project.ipynb\" target=\"_parent\"><img src=\"https://colab.research.google.com/assets/colab-badge.svg\" alt=\"Open In Colab\"/></a>"
      ]
    },
    {
      "cell_type": "code",
      "execution_count": 3,
      "metadata": {
        "id": "Ln-9kpfGS4w7"
      },
      "outputs": [],
      "source": [
        "import pandas as pd\n",
        "import numpy as np\n",
        "import matplotlib.pyplot as plt\n",
        "import seaborn as sns\n",
        "from sklearn import metrics\n",
        "from sklearn.model_selection import train_test_split\n",
        "from sklearn.linear_model import LinearRegression\n",
        "from sklearn.linear_model import Lasso\n",
        "from sklearn.preprocessing import StandardScaler\n"
      ]
    },
    {
      "cell_type": "code",
      "source": [
        "data=pd.read_csv(\"LIFE_EXPECT.csv.csv\")\n",
        "data.head()\n",
        "data.isnull().sum()\n",
        "\n",
        "x=data.drop(['age'],axis=1)\n",
        "y=data['age']\n",
        "\n",
        "print(x)\n",
        "\n",
        "print(y)\n",
        "\n",
        "sc=StandardScaler()\n",
        "data=sc.fit(x)\n",
        "dd=sc.transform(x)\n",
        "print(data)\n",
        "print(dd)\n",
        "print(x)\n",
        "\n",
        "print(dd)\n",
        "\n",
        "print(x)"
      ],
      "metadata": {
        "colab": {
          "base_uri": "https://localhost:8080/"
        },
        "id": "JHKJzIe6TA7T",
        "outputId": "6697d5f0-5bda-48d7-8d4a-ad08cb1ba9bc"
      },
      "execution_count": 25,
      "outputs": [
        {
          "output_type": "stream",
          "name": "stdout",
          "text": [
            "     sex  cp  trestbps  chol  fbs  restecg  thalach  exang  oldpeak  slope  \\\n",
            "0      1   3       145   233    1        0      150      0      2.3      0   \n",
            "1      1   2       130   250    0        1      187      0      3.5      0   \n",
            "2      0   1       130   204    0        0      172      0      1.4      2   \n",
            "3      1   1       120   236    0        1      178      0      0.8      2   \n",
            "4      0   0       120   354    0        1      163      1      0.6      2   \n",
            "..   ...  ..       ...   ...  ...      ...      ...    ...      ...    ...   \n",
            "298    0   0       140   241    0        1      123      1      0.2      1   \n",
            "299    1   3       110   264    0        1      132      0      1.2      1   \n",
            "300    1   0       144   193    1        1      141      0      3.4      1   \n",
            "301    1   0       130   131    0        1      115      1      1.2      1   \n",
            "302    0   1       130   236    0        0      174      0      0.0      1   \n",
            "\n",
            "     ca  thal  target  \n",
            "0     0     1       1  \n",
            "1     0     2       1  \n",
            "2     0     2       1  \n",
            "3     0     2       1  \n",
            "4     0     2       1  \n",
            "..   ..   ...     ...  \n",
            "298   0     3       0  \n",
            "299   0     3       0  \n",
            "300   2     3       0  \n",
            "301   1     3       0  \n",
            "302   1     2       0  \n",
            "\n",
            "[303 rows x 13 columns]\n",
            "0      63\n",
            "1      37\n",
            "2      41\n",
            "3      56\n",
            "4      57\n",
            "       ..\n",
            "298    57\n",
            "299    45\n",
            "300    68\n",
            "301    57\n",
            "302    57\n",
            "Name: age, Length: 303, dtype: int64\n",
            "StandardScaler()\n",
            "[[ 0.68100522  1.97312292  0.76395577 ... -0.71442887 -2.14887271\n",
            "   0.91452919]\n",
            " [ 0.68100522  1.00257707 -0.09273778 ... -0.71442887 -0.51292188\n",
            "   0.91452919]\n",
            " [-1.46841752  0.03203122 -0.09273778 ... -0.71442887 -0.51292188\n",
            "   0.91452919]\n",
            " ...\n",
            " [ 0.68100522 -0.93851463  0.70684287 ...  1.24459328  1.12302895\n",
            "  -1.09345881]\n",
            " [ 0.68100522 -0.93851463 -0.09273778 ...  0.26508221  1.12302895\n",
            "  -1.09345881]\n",
            " [-1.46841752  0.03203122 -0.09273778 ...  0.26508221 -0.51292188\n",
            "  -1.09345881]]\n",
            "     sex  cp  trestbps  chol  fbs  restecg  thalach  exang  oldpeak  slope  \\\n",
            "0      1   3       145   233    1        0      150      0      2.3      0   \n",
            "1      1   2       130   250    0        1      187      0      3.5      0   \n",
            "2      0   1       130   204    0        0      172      0      1.4      2   \n",
            "3      1   1       120   236    0        1      178      0      0.8      2   \n",
            "4      0   0       120   354    0        1      163      1      0.6      2   \n",
            "..   ...  ..       ...   ...  ...      ...      ...    ...      ...    ...   \n",
            "298    0   0       140   241    0        1      123      1      0.2      1   \n",
            "299    1   3       110   264    0        1      132      0      1.2      1   \n",
            "300    1   0       144   193    1        1      141      0      3.4      1   \n",
            "301    1   0       130   131    0        1      115      1      1.2      1   \n",
            "302    0   1       130   236    0        0      174      0      0.0      1   \n",
            "\n",
            "     ca  thal  target  \n",
            "0     0     1       1  \n",
            "1     0     2       1  \n",
            "2     0     2       1  \n",
            "3     0     2       1  \n",
            "4     0     2       1  \n",
            "..   ..   ...     ...  \n",
            "298   0     3       0  \n",
            "299   0     3       0  \n",
            "300   2     3       0  \n",
            "301   1     3       0  \n",
            "302   1     2       0  \n",
            "\n",
            "[303 rows x 13 columns]\n",
            "[[ 0.68100522  1.97312292  0.76395577 ... -0.71442887 -2.14887271\n",
            "   0.91452919]\n",
            " [ 0.68100522  1.00257707 -0.09273778 ... -0.71442887 -0.51292188\n",
            "   0.91452919]\n",
            " [-1.46841752  0.03203122 -0.09273778 ... -0.71442887 -0.51292188\n",
            "   0.91452919]\n",
            " ...\n",
            " [ 0.68100522 -0.93851463  0.70684287 ...  1.24459328  1.12302895\n",
            "  -1.09345881]\n",
            " [ 0.68100522 -0.93851463 -0.09273778 ...  0.26508221  1.12302895\n",
            "  -1.09345881]\n",
            " [-1.46841752  0.03203122 -0.09273778 ...  0.26508221 -0.51292188\n",
            "  -1.09345881]]\n",
            "     sex  cp  trestbps  chol  fbs  restecg  thalach  exang  oldpeak  slope  \\\n",
            "0      1   3       145   233    1        0      150      0      2.3      0   \n",
            "1      1   2       130   250    0        1      187      0      3.5      0   \n",
            "2      0   1       130   204    0        0      172      0      1.4      2   \n",
            "3      1   1       120   236    0        1      178      0      0.8      2   \n",
            "4      0   0       120   354    0        1      163      1      0.6      2   \n",
            "..   ...  ..       ...   ...  ...      ...      ...    ...      ...    ...   \n",
            "298    0   0       140   241    0        1      123      1      0.2      1   \n",
            "299    1   3       110   264    0        1      132      0      1.2      1   \n",
            "300    1   0       144   193    1        1      141      0      3.4      1   \n",
            "301    1   0       130   131    0        1      115      1      1.2      1   \n",
            "302    0   1       130   236    0        0      174      0      0.0      1   \n",
            "\n",
            "     ca  thal  target  \n",
            "0     0     1       1  \n",
            "1     0     2       1  \n",
            "2     0     2       1  \n",
            "3     0     2       1  \n",
            "4     0     2       1  \n",
            "..   ..   ...     ...  \n",
            "298   0     3       0  \n",
            "299   0     3       0  \n",
            "300   2     3       0  \n",
            "301   1     3       0  \n",
            "302   1     2       0  \n",
            "\n",
            "[303 rows x 13 columns]\n"
          ]
        }
      ]
    },
    {
      "cell_type": "code",
      "source": [
        "x_train,x_test,y_train,y_test=train_test_split(x,y,test_size=0.1,random_state=True)\n",
        "from sklearn import linear_model\n",
        "lin_reg_model=LinearRegression()\n",
        "\n",
        "reg=lin_reg_model.fit(x_train,y_train)\n",
        "\n",
        "w=reg.score(x_test,y_test)\n",
        "\n",
        "reg.score(x_train,y_train)\n",
        "\n",
        "train_prediction=lin_reg_model.predict(x_train)\n",
        "\n",
        "error_score=metrics.r2_score(y_train,train_prediction)\n",
        "print(\"Linear Regression:\", error_score)\n",
        "plt.scatter(y_train,train_prediction)"
      ],
      "metadata": {
        "id": "5fJf_mNdxP_F",
        "outputId": "1d196982-e8a6-48c9-9886-6488901fc601",
        "colab": {
          "base_uri": "https://localhost:8080/",
          "height": 300
        }
      },
      "execution_count": 34,
      "outputs": [
        {
          "output_type": "stream",
          "name": "stdout",
          "text": [
            "Linear Regression: 0.30503242634446204\n"
          ]
        },
        {
          "output_type": "execute_result",
          "data": {
            "text/plain": [
              "<matplotlib.collections.PathCollection at 0x7f8b310b9c40>"
            ]
          },
          "metadata": {},
          "execution_count": 34
        },
        {
          "output_type": "display_data",
          "data": {
            "text/plain": [
              "<Figure size 432x288 with 1 Axes>"
            ],
            "image/png": "[encoded data removed]"
          },
          "metadata": {
            "needs_background": "light"
          }
        }
      ]
    },
    {
      "cell_type": "code",
      "source": [
        "x_train,x_test,y_train,y_test=train_test_split(x,y,test_size=0.1,random_state=True)\n",
        "from sklearn import linear_model\n",
        "lasso_reg=linear_model.Lasso(alpha=50,max_iter=100,tol=0.1)\n",
        "lasso_reg.fit(x_train,y_train)\n",
        "\n",
        "j=lasso_reg.score(x_test,y_test)\n",
        "trainl_prediction=lasso_reg.predict(x_train)\n",
        "error2_score=metrics.r2_score(y_train,trainl_prediction)\n",
        "print(\"Lasso Regression:\", error2_score)\n",
        "plt.scatter(y_train,trainl_prediction)\n",
        "jj=lasso_reg.score(x_train,y_train)"
      ],
      "metadata": {
        "id": "mjP6zuM-TLDp",
        "colab": {
          "base_uri": "https://localhost:8080/",
          "height": 282
        },
        "outputId": "a8ff28f1-b7e5-459f-97ef-0958a7be0b7b"
      },
      "execution_count": 33,
      "outputs": [
        {
          "output_type": "stream",
          "name": "stdout",
          "text": [
            "Lasso Regression: 0.12595077322184733\n"
          ]
        },
        {
          "output_type": "display_data",
          "data": {
            "text/plain": [
              "<Figure size 432x288 with 1 Axes>"
            ],
            "image/png": "[encoded data removed]"
          },
          "metadata": {
            "needs_background": "light"
          }
        }
      ]
    },
    {
      "cell_type": "code",
      "source": [
        "x_train,x_test,y_train,y_test=train_test_split(x,y,test_size=0.1,random_state=True)\n",
        "from sklearn.linear_model import Ridge\n",
        "Ridge_reg=linear_model.Ridge(alpha=50,max_iter=100,tol=0.1)\n",
        "Ridge_reg.fit(x_train,y_train)\n",
        "trainr_prediction=Ridge_reg.predict(x_train)\n",
        "error_scorer=metrics.r2_score(y_train,trainr_prediction)\n",
        "print(\"Ridge Regression:\", error_scorer)\n",
        "ff=Ridge_reg.score(x_train,y_train)\n",
        "\n",
        "ll=Ridge_reg.score(x_test,y_test)\n",
        "import matplotlib.pyplot as plt\n",
        "plt.scatter(y_train,trainr_prediction)"
      ],
      "metadata": {
        "id": "OM0n72dTxcNy",
        "outputId": "2e21ca25-00df-440e-e8ac-3eac61f936cd",
        "colab": {
          "base_uri": "https://localhost:8080/",
          "height": 300
        }
      },
      "execution_count": 32,
      "outputs": [
        {
          "output_type": "stream",
          "name": "stdout",
          "text": [
            "Ridge Regression: 0.29947544587388797\n"
          ]
        },
        {
          "output_type": "execute_result",
          "data": {
            "text/plain": [
              "<matplotlib.collections.PathCollection at 0x7f8b3111a790>"
            ]
          },
          "metadata": {},
          "execution_count": 32
        },
        {
          "output_type": "display_data",
          "data": {
            "text/plain": [
              "<Figure size 432x288 with 1 Axes>"
            ],
            "image/png": "[encoded data removed]"
          },
          "metadata": {
            "needs_background": "light"
          }
        }
      ]
    }
  ]
}